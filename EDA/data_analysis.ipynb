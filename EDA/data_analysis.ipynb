{
 "cells": [
  {
   "cell_type": "code",
   "execution_count": 1,
   "metadata": {},
   "outputs": [],
   "source": [
    "import pandas as pd"
   ]
  },
  {
   "cell_type": "code",
   "execution_count": 3,
   "metadata": {},
   "outputs": [],
   "source": [
    "df = pd.read_csv(\"Cleaned_data.csv\")"
   ]
  },
  {
   "cell_type": "code",
   "execution_count": 4,
   "metadata": {},
   "outputs": [
    {
     "name": "stdout",
     "output_type": "stream",
     "text": [
      "<class 'pandas.core.frame.DataFrame'>\n",
      "RangeIndex: 46 entries, 0 to 45\n",
      "Data columns (total 9 columns):\n",
      " #   Column                                      Non-Null Count  Dtype  \n",
      "---  ------                                      --------------  -----  \n",
      " 0   Roll no                                     46 non-null     object \n",
      " 1   Gender                                      46 non-null     object \n",
      " 2   Wake up time                                46 non-null     float64\n",
      " 3   First thing to do                           46 non-null     object \n",
      " 4   Have breakfast                              46 non-null     object \n",
      " 5   Energy level rating                         46 non-null     int64  \n",
      " 6   Influence productivity                      46 non-null     object \n",
      " 7   Morning level change disturbe energy level  46 non-null     object \n",
      " 8   Sleep time                                  46 non-null     float64\n",
      "dtypes: float64(2), int64(1), object(6)\n",
      "memory usage: 3.4+ KB\n"
     ]
    }
   ],
   "source": [
    "df.info()"
   ]
  },
  {
   "cell_type": "code",
   "execution_count": 27,
   "metadata": {},
   "outputs": [
    {
     "data": {
      "text/html": [
       "<div>\n",
       "<style scoped>\n",
       "    .dataframe tbody tr th:only-of-type {\n",
       "        vertical-align: middle;\n",
       "    }\n",
       "\n",
       "    .dataframe tbody tr th {\n",
       "        vertical-align: top;\n",
       "    }\n",
       "\n",
       "    .dataframe thead th {\n",
       "        text-align: right;\n",
       "    }\n",
       "</style>\n",
       "<table border=\"1\" class=\"dataframe\">\n",
       "  <thead>\n",
       "    <tr style=\"text-align: right;\">\n",
       "      <th></th>\n",
       "      <th>Roll no</th>\n",
       "      <th>Gender</th>\n",
       "      <th>Wake up time</th>\n",
       "      <th>First thing to do</th>\n",
       "      <th>Have breakfast</th>\n",
       "      <th>Energy level rating</th>\n",
       "      <th>Influence productivity</th>\n",
       "      <th>Morning level change disturbe energy level</th>\n",
       "      <th>Sleep time</th>\n",
       "    </tr>\n",
       "  </thead>\n",
       "  <tbody>\n",
       "    <tr>\n",
       "      <th>0</th>\n",
       "      <td>KCE080BCT001</td>\n",
       "      <td>Male</td>\n",
       "      <td>7.0</td>\n",
       "      <td>check phone</td>\n",
       "      <td>yes</td>\n",
       "      <td>2</td>\n",
       "      <td>no</td>\n",
       "      <td>No</td>\n",
       "      <td>7.0</td>\n",
       "    </tr>\n",
       "    <tr>\n",
       "      <th>1</th>\n",
       "      <td>KCE080BCT002</td>\n",
       "      <td>Male</td>\n",
       "      <td>5.0</td>\n",
       "      <td>Exercise</td>\n",
       "      <td>yes</td>\n",
       "      <td>3</td>\n",
       "      <td>not sure</td>\n",
       "      <td>Yes</td>\n",
       "      <td>7.0</td>\n",
       "    </tr>\n",
       "    <tr>\n",
       "      <th>2</th>\n",
       "      <td>KCE080BCT003</td>\n",
       "      <td>Male</td>\n",
       "      <td>5.0</td>\n",
       "      <td>Exercise</td>\n",
       "      <td>yes</td>\n",
       "      <td>4</td>\n",
       "      <td>yes</td>\n",
       "      <td>Yes</td>\n",
       "      <td>6.5</td>\n",
       "    </tr>\n",
       "    <tr>\n",
       "      <th>3</th>\n",
       "      <td>KCE080BCT004</td>\n",
       "      <td>Female</td>\n",
       "      <td>5.0</td>\n",
       "      <td>check phone</td>\n",
       "      <td>yes</td>\n",
       "      <td>2</td>\n",
       "      <td>yes</td>\n",
       "      <td>Yes</td>\n",
       "      <td>6.0</td>\n",
       "    </tr>\n",
       "    <tr>\n",
       "      <th>4</th>\n",
       "      <td>KCE080BCT005</td>\n",
       "      <td>Male</td>\n",
       "      <td>6.5</td>\n",
       "      <td>check phone</td>\n",
       "      <td>yes</td>\n",
       "      <td>4</td>\n",
       "      <td>not sure</td>\n",
       "      <td>No</td>\n",
       "      <td>7.0</td>\n",
       "    </tr>\n",
       "  </tbody>\n",
       "</table>\n",
       "</div>"
      ],
      "text/plain": [
       "        Roll no  Gender  Wake up time First thing to do Have breakfast  \\\n",
       "0  KCE080BCT001    Male           7.0       check phone            yes   \n",
       "1  KCE080BCT002    Male           5.0          Exercise            yes   \n",
       "2  KCE080BCT003    Male           5.0          Exercise            yes   \n",
       "3  KCE080BCT004  Female           5.0       check phone            yes   \n",
       "4  KCE080BCT005    Male           6.5       check phone            yes   \n",
       "\n",
       "   Energy level rating Influence productivity  \\\n",
       "0                    2                     no   \n",
       "1                    3               not sure   \n",
       "2                    4                    yes   \n",
       "3                    2                    yes   \n",
       "4                    4               not sure   \n",
       "\n",
       "  Morning level change disturbe energy level  Sleep time  \n",
       "0                                         No         7.0  \n",
       "1                                        Yes         7.0  \n",
       "2                                        Yes         6.5  \n",
       "3                                        Yes         6.0  \n",
       "4                                         No         7.0  "
      ]
     },
     "execution_count": 27,
     "metadata": {},
     "output_type": "execute_result"
    }
   ],
   "source": [
    "df.head()"
   ]
  },
  {
   "cell_type": "code",
   "execution_count": 28,
   "metadata": {},
   "outputs": [
    {
     "data": {
      "text/html": [
       "<div>\n",
       "<style scoped>\n",
       "    .dataframe tbody tr th:only-of-type {\n",
       "        vertical-align: middle;\n",
       "    }\n",
       "\n",
       "    .dataframe tbody tr th {\n",
       "        vertical-align: top;\n",
       "    }\n",
       "\n",
       "    .dataframe thead th {\n",
       "        text-align: right;\n",
       "    }\n",
       "</style>\n",
       "<table border=\"1\" class=\"dataframe\">\n",
       "  <thead>\n",
       "    <tr style=\"text-align: right;\">\n",
       "      <th></th>\n",
       "      <th>Wake up time</th>\n",
       "      <th>Energy level rating</th>\n",
       "      <th>Sleep time</th>\n",
       "    </tr>\n",
       "  </thead>\n",
       "  <tbody>\n",
       "    <tr>\n",
       "      <th>count</th>\n",
       "      <td>46.000000</td>\n",
       "      <td>46.000000</td>\n",
       "      <td>46.000000</td>\n",
       "    </tr>\n",
       "    <tr>\n",
       "      <th>mean</th>\n",
       "      <td>6.406884</td>\n",
       "      <td>3.326087</td>\n",
       "      <td>7.036957</td>\n",
       "    </tr>\n",
       "    <tr>\n",
       "      <th>std</th>\n",
       "      <td>1.207791</td>\n",
       "      <td>0.967341</td>\n",
       "      <td>1.183471</td>\n",
       "    </tr>\n",
       "    <tr>\n",
       "      <th>min</th>\n",
       "      <td>4.000000</td>\n",
       "      <td>1.000000</td>\n",
       "      <td>3.000000</td>\n",
       "    </tr>\n",
       "    <tr>\n",
       "      <th>25%</th>\n",
       "      <td>6.000000</td>\n",
       "      <td>3.000000</td>\n",
       "      <td>6.500000</td>\n",
       "    </tr>\n",
       "    <tr>\n",
       "      <th>50%</th>\n",
       "      <td>6.500000</td>\n",
       "      <td>3.500000</td>\n",
       "      <td>7.000000</td>\n",
       "    </tr>\n",
       "    <tr>\n",
       "      <th>75%</th>\n",
       "      <td>7.000000</td>\n",
       "      <td>4.000000</td>\n",
       "      <td>7.875000</td>\n",
       "    </tr>\n",
       "    <tr>\n",
       "      <th>max</th>\n",
       "      <td>9.000000</td>\n",
       "      <td>5.000000</td>\n",
       "      <td>10.000000</td>\n",
       "    </tr>\n",
       "  </tbody>\n",
       "</table>\n",
       "</div>"
      ],
      "text/plain": [
       "       Wake up time  Energy level rating  Sleep time\n",
       "count     46.000000            46.000000   46.000000\n",
       "mean       6.406884             3.326087    7.036957\n",
       "std        1.207791             0.967341    1.183471\n",
       "min        4.000000             1.000000    3.000000\n",
       "25%        6.000000             3.000000    6.500000\n",
       "50%        6.500000             3.500000    7.000000\n",
       "75%        7.000000             4.000000    7.875000\n",
       "max        9.000000             5.000000   10.000000"
      ]
     },
     "execution_count": 28,
     "metadata": {},
     "output_type": "execute_result"
    }
   ],
   "source": [
    "df.describe()"
   ]
  },
  {
   "cell_type": "markdown",
   "metadata": {},
   "source": [
    "Value counts for categorical columns: Find the frequency of each category in columns like Gender, First thing to do, Have breakfast, etc."
   ]
  },
  {
   "cell_type": "code",
   "execution_count": 29,
   "metadata": {},
   "outputs": [
    {
     "data": {
      "text/plain": [
       "Gender\n",
       "Male      33\n",
       "Female    13\n",
       "Name: count, dtype: int64"
      ]
     },
     "execution_count": 29,
     "metadata": {},
     "output_type": "execute_result"
    }
   ],
   "source": [
    "df['Gender'].value_counts()\n"
   ]
  },
  {
   "cell_type": "code",
   "execution_count": 30,
   "metadata": {},
   "outputs": [
    {
     "data": {
      "text/plain": [
       "First thing to do\n",
       "check phone       30\n",
       "take breakfast     7\n",
       "Exercise           5\n",
       "drink water        1\n",
       "sleep              1\n",
       "Wear Spects        1\n",
       "Shower             1\n",
       "Name: count, dtype: int64"
      ]
     },
     "execution_count": 30,
     "metadata": {},
     "output_type": "execute_result"
    }
   ],
   "source": [
    "df['First thing to do'].value_counts()\n"
   ]
  },
  {
   "cell_type": "code",
   "execution_count": 31,
   "metadata": {},
   "outputs": [
    {
     "data": {
      "text/plain": [
       "Have breakfast\n",
       "yes    29\n",
       "no     17\n",
       "Name: count, dtype: int64"
      ]
     },
     "execution_count": 31,
     "metadata": {},
     "output_type": "execute_result"
    }
   ],
   "source": [
    "\n",
    "df['Have breakfast'].value_counts()"
   ]
  },
  {
   "cell_type": "markdown",
   "metadata": {},
   "source": [
    "1. Group Data by Wake-up Time Intervals\n"
   ]
  },
  {
   "cell_type": "code",
   "execution_count": 32,
   "metadata": {},
   "outputs": [
    {
     "data": {
      "text/plain": [
       "Wake up category\n",
       "Early risers    36\n",
       "Mid risers       7\n",
       "Late risers      3\n",
       "Name: count, dtype: int64"
      ]
     },
     "execution_count": 32,
     "metadata": {},
     "output_type": "execute_result"
    }
   ],
   "source": [
    "\n",
    "# Assuming the DataFrame is named df\n",
    "df['Wake up category'] = pd.cut(df['Wake up time'], \n",
    "                                bins=[0, 7, 8, float('inf')], \n",
    "                                labels=['Early risers', 'Mid risers', 'Late risers'])\n",
    "\n",
    "# Check the categories\n",
    "df['Wake up category'].value_counts()"
   ]
  },
  {
   "cell_type": "markdown",
   "metadata": {},
   "source": [
    "2. Calculate Average Energy Levels for Different Routines\n"
   ]
  },
  {
   "cell_type": "code",
   "execution_count": 33,
   "metadata": {},
   "outputs": [
    {
     "data": {
      "text/plain": [
       "First thing to do\n",
       "Exercise          4.000000\n",
       "Shower            4.000000\n",
       "Wear Spects       4.000000\n",
       "check phone       3.066667\n",
       "drink water       3.000000\n",
       "sleep             4.000000\n",
       "take breakfast    3.714286\n",
       "Name: Energy level rating, dtype: float64"
      ]
     },
     "execution_count": 33,
     "metadata": {},
     "output_type": "execute_result"
    }
   ],
   "source": [
    "# Example: Grouping by 'First thing to do'\n",
    "energy_by_routine = df.groupby('First thing to do')['Energy level rating'].mean()\n",
    "energy_by_routine"
   ]
  },
  {
   "cell_type": "markdown",
   "metadata": {},
   "source": [
    "3. Compare Productivity Levels Among Students with and Without Breakfast\n"
   ]
  },
  {
   "cell_type": "code",
   "execution_count": 34,
   "metadata": {},
   "outputs": [
    {
     "data": {
      "text/plain": [
       "Have breakfast\n",
       "no     2.705882\n",
       "yes    3.689655\n",
       "Name: Energy level rating, dtype: float64"
      ]
     },
     "execution_count": 34,
     "metadata": {},
     "output_type": "execute_result"
    }
   ],
   "source": [
    "# For comparison of productivity based on breakfast\n",
    "productivity_by_breakfast = df.groupby('Have breakfast')['Energy level rating'].mean()\n",
    "productivity_by_breakfast"
   ]
  },
  {
   "cell_type": "markdown",
   "metadata": {},
   "source": [
    "4. Identify Trends or Correlations\n",
    "Trend 1: \"Students who wake up earlier tend to report higher energy levels.\""
   ]
  },
  {
   "cell_type": "code",
   "execution_count": 35,
   "metadata": {},
   "outputs": [
    {
     "name": "stderr",
     "output_type": "stream",
     "text": [
      "C:\\Users\\Bipin Manandhar\\AppData\\Local\\Temp\\ipykernel_22364\\4093039976.py:1: FutureWarning: The default of observed=False is deprecated and will be changed to True in a future version of pandas. Pass observed=False to retain current behavior or observed=True to adopt the future default and silence this warning.\n",
      "  energy_by_wake_up_time = df.groupby('Wake up category')['Energy level rating'].mean()\n"
     ]
    },
    {
     "data": {
      "text/plain": [
       "Wake up category\n",
       "Early risers    3.472222\n",
       "Mid risers      3.285714\n",
       "Late risers     1.666667\n",
       "Name: Energy level rating, dtype: float64"
      ]
     },
     "execution_count": 35,
     "metadata": {},
     "output_type": "execute_result"
    }
   ],
   "source": [
    "energy_by_wake_up_time = df.groupby('Wake up category')['Energy level rating'].mean()\n",
    "energy_by_wake_up_time"
   ]
  },
  {
   "cell_type": "markdown",
   "metadata": {},
   "source": [
    "Trend 2: “Skipping breakfast leads to lower productivity scores.\""
   ]
  },
  {
   "cell_type": "code",
   "execution_count": 36,
   "metadata": {},
   "outputs": [
    {
     "data": {
      "text/plain": [
       "Have breakfast\n",
       "no     2.705882\n",
       "yes    3.689655\n",
       "Name: Energy level rating, dtype: float64"
      ]
     },
     "execution_count": 36,
     "metadata": {},
     "output_type": "execute_result"
    }
   ],
   "source": [
    "# Productivity score comparison for those with and without breakfast\n",
    "breakfast_influence = df.groupby('Have breakfast')['Energy level rating'].mean()\n",
    "breakfast_influence"
   ]
  },
  {
   "cell_type": "markdown",
   "metadata": {},
   "source": [
    "5. Additional Statistical Insights"
   ]
  },
  {
   "cell_type": "code",
   "execution_count": 37,
   "metadata": {},
   "outputs": [
    {
     "data": {
      "text/html": [
       "<div>\n",
       "<style scoped>\n",
       "    .dataframe tbody tr th:only-of-type {\n",
       "        vertical-align: middle;\n",
       "    }\n",
       "\n",
       "    .dataframe tbody tr th {\n",
       "        vertical-align: top;\n",
       "    }\n",
       "\n",
       "    .dataframe thead th {\n",
       "        text-align: right;\n",
       "    }\n",
       "</style>\n",
       "<table border=\"1\" class=\"dataframe\">\n",
       "  <thead>\n",
       "    <tr style=\"text-align: right;\">\n",
       "      <th></th>\n",
       "      <th>Wake up time</th>\n",
       "      <th>Energy level rating</th>\n",
       "      <th>Sleep time</th>\n",
       "    </tr>\n",
       "  </thead>\n",
       "  <tbody>\n",
       "    <tr>\n",
       "      <th>Wake up time</th>\n",
       "      <td>1.000000</td>\n",
       "      <td>-0.421043</td>\n",
       "      <td>0.494358</td>\n",
       "    </tr>\n",
       "    <tr>\n",
       "      <th>Energy level rating</th>\n",
       "      <td>-0.421043</td>\n",
       "      <td>1.000000</td>\n",
       "      <td>-0.200989</td>\n",
       "    </tr>\n",
       "    <tr>\n",
       "      <th>Sleep time</th>\n",
       "      <td>0.494358</td>\n",
       "      <td>-0.200989</td>\n",
       "      <td>1.000000</td>\n",
       "    </tr>\n",
       "  </tbody>\n",
       "</table>\n",
       "</div>"
      ],
      "text/plain": [
       "                     Wake up time  Energy level rating  Sleep time\n",
       "Wake up time             1.000000            -0.421043    0.494358\n",
       "Energy level rating     -0.421043             1.000000   -0.200989\n",
       "Sleep time               0.494358            -0.200989    1.000000"
      ]
     },
     "execution_count": 37,
     "metadata": {},
     "output_type": "execute_result"
    }
   ],
   "source": [
    "# Correlation matrix for numerical columns\n",
    "correlation_matrix = df[['Wake up time', 'Energy level rating', 'Sleep time']].corr()\n",
    "correlation_matrix"
   ]
  }
 ],
 "metadata": {
  "kernelspec": {
   "display_name": "venv",
   "language": "python",
   "name": "python3"
  },
  "language_info": {
   "codemirror_mode": {
    "name": "ipython",
    "version": 3
   },
   "file_extension": ".py",
   "mimetype": "text/x-python",
   "name": "python",
   "nbconvert_exporter": "python",
   "pygments_lexer": "ipython3",
   "version": "3.13.0"
  }
 },
 "nbformat": 4,
 "nbformat_minor": 2
}
