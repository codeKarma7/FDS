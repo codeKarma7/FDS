{
 "cells": [
  {
   "cell_type": "markdown",
   "metadata": {},
   "source": [
    "3.Control Structures\n",
    "- Conditional statements\n",
    "- if, if-else, nested if-else\n",
    "- Loops\n",
    "- for loop\n",
    "- while loop\n",
    "- Nested loops\n",
    "- Loop control statements (break, continue, pass)"
   ]
  }
 ],
 "metadata": {
  "language_info": {
   "name": "python"
  }
 },
 "nbformat": 4,
 "nbformat_minor": 2
}
