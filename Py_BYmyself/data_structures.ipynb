{
 "cells": [
  {
   "cell_type": "markdown",
   "metadata": {},
   "source": [
    "<h2 style=\"color:#00BFFF\"><b>List :</b></h2>\n",
    "- A list is an ordered, mutable collection of elements.<br>\n",
    "- It allows duplicate elements.<br>\n",
    "- It can be defined using square brackets [ ].<br>\n",
    "- It can be homogeneous and heterogeneous collection."
   ]
  },
  {
   "cell_type": "markdown",
   "metadata": {},
   "source": [
    "<h5 style=\"color:#00BFFF\">Creation of List</h5>"
   ]
  },
  {
   "cell_type": "code",
   "execution_count": 2,
   "metadata": {},
   "outputs": [
    {
     "name": "stdout",
     "output_type": "stream",
     "text": [
      "[]\n",
      "<class 'list'>\n"
     ]
    }
   ],
   "source": [
    "my_list = [] #this is empty list\n",
    "print(my_list)\n",
    "print(type(my_list))"
   ]
  },
  {
   "cell_type": "code",
   "execution_count": 4,
   "metadata": {},
   "outputs": [
    {
     "name": "stdout",
     "output_type": "stream",
     "text": [
      "[1, 3, 5, 7, 8, 978, 53]\n",
      "['Abc', 'bCD', 'kARMA']\n"
     ]
    }
   ],
   "source": [
    "#list of integers\n",
    "num_list = [1,3,5,7,8,978,53]\n",
    "\n",
    "#list of strings\n",
    "stri_list = [\"Abc\",\"bCD\",\"kARMA\"]\n",
    "\n",
    "print(num_list)\n",
    "print(stri_list)"
   ]
  },
  {
   "cell_type": "markdown",
   "metadata": {},
   "source": [
    "<h5 style=\"color:#00BFFF\">Accessing List Elements</h5>\n",
    "- Indexing will be used for accessing list elements where indexing starts from 0."
   ]
  },
  {
   "cell_type": "code",
   "execution_count": 6,
   "metadata": {},
   "outputs": [
    {
     "name": "stdout",
     "output_type": "stream",
     "text": [
      "30\n"
     ]
    }
   ],
   "source": [
    "list_one = [10,20,30,40,50,60]\n",
    "third_element = list_one[2]  #based on indexing output is given\n",
    "print(third_element)"
   ]
  },
  {
   "cell_type": "markdown",
   "metadata": {},
   "source": [
    "- Negative indexing can also be used to access elements from the reverse order."
   ]
  },
  {
   "cell_type": "code",
   "execution_count": 8,
   "metadata": {},
   "outputs": [
    {
     "name": "stdout",
     "output_type": "stream",
     "text": [
      "60\n"
     ]
    }
   ],
   "source": [
    "last_element = list_one[-1] #negative indexing starts from -1\n",
    "print(last_element)"
   ]
  },
  {
   "cell_type": "markdown",
   "metadata": {},
   "source": [
    "<h5 style=\"color:#00BFFF\">List Slicing</h5>\n",
    "- powerful feature in python that allows you to extract a particular portion of a list.\n",
    "\n",
    "Syntax : \n",
    "list[start : stop] = extracts elements from start index up to stop index but not including stop index.\n"
   ]
  }
 ],
 "metadata": {
  "kernelspec": {
   "display_name": "Python 3",
   "language": "python",
   "name": "python3"
  },
  "language_info": {
   "codemirror_mode": {
    "name": "ipython",
    "version": 3
   },
   "file_extension": ".py",
   "mimetype": "text/x-python",
   "name": "python",
   "nbconvert_exporter": "python",
   "pygments_lexer": "ipython3",
   "version": "3.13.0"
  }
 },
 "nbformat": 4,
 "nbformat_minor": 2
}
