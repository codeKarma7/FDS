{
 "cells": [
  {
   "cell_type": "markdown",
   "metadata": {},
   "source": [
    "Predicting Stock Prices\n",
    "\n",
    "Objective : \n",
    "- Building a model to predict future stock prices based on historical data.\n",
    "\n",
    "\n",
    "Collection of Dataset :\n",
    "\n",
    "- This dataset collected for regression project number 10(predicting stocl prices).This is a real life historical data collected.The stock price id of company \"Tesla\"\n",
    "\n",
    "- The historical data was collected from the website [\"investing.com\"](https://www.investing.com/) and searched stock of Tesla company named as 'TSLA' and downloaded the historical data."
   ]
  },
  {
   "cell_type": "code",
   "execution_count": null,
   "metadata": {},
   "outputs": [],
   "source": [
    "import pandas as pd\n",
    "import yfinance as yf\n",
    "import numpy as np \n",
    "import seaborn as sn\n",
    "import matplotlib.pyplot as plt"
   ]
  },
  {
   "cell_type": "code",
   "execution_count": null,
   "metadata": {},
   "outputs": [],
   "source": []
  },
  {
   "cell_type": "code",
   "execution_count": 7,
   "metadata": {},
   "outputs": [
    {
     "name": "stderr",
     "output_type": "stream",
     "text": [
      "[*********************100%***********************]  1 of 1 completed\n"
     ]
    }
   ],
   "source": [
    "Tesla_data = yf.download(\"TSLA\",start=\"2023-01-01\", end=\"2024-12-31\")"
   ]
  },
  {
   "cell_type": "code",
   "execution_count": 8,
   "metadata": {},
   "outputs": [
    {
     "data": {
      "text/html": [
       "<div>\n",
       "<style scoped>\n",
       "    .dataframe tbody tr th:only-of-type {\n",
       "        vertical-align: middle;\n",
       "    }\n",
       "\n",
       "    .dataframe tbody tr th {\n",
       "        vertical-align: top;\n",
       "    }\n",
       "\n",
       "    .dataframe thead tr th {\n",
       "        text-align: left;\n",
       "    }\n",
       "\n",
       "    .dataframe thead tr:last-of-type th {\n",
       "        text-align: right;\n",
       "    }\n",
       "</style>\n",
       "<table border=\"1\" class=\"dataframe\">\n",
       "  <thead>\n",
       "    <tr>\n",
       "      <th>Price</th>\n",
       "      <th>Close</th>\n",
       "      <th>High</th>\n",
       "      <th>Low</th>\n",
       "      <th>Open</th>\n",
       "      <th>Volume</th>\n",
       "    </tr>\n",
       "    <tr>\n",
       "      <th>Ticker</th>\n",
       "      <th>TSLA</th>\n",
       "      <th>TSLA</th>\n",
       "      <th>TSLA</th>\n",
       "      <th>TSLA</th>\n",
       "      <th>TSLA</th>\n",
       "    </tr>\n",
       "    <tr>\n",
       "      <th>Date</th>\n",
       "      <th></th>\n",
       "      <th></th>\n",
       "      <th></th>\n",
       "      <th></th>\n",
       "      <th></th>\n",
       "    </tr>\n",
       "  </thead>\n",
       "  <tbody>\n",
       "    <tr>\n",
       "      <th>2023-01-03</th>\n",
       "      <td>108.099998</td>\n",
       "      <td>118.800003</td>\n",
       "      <td>104.639999</td>\n",
       "      <td>118.470001</td>\n",
       "      <td>231402800</td>\n",
       "    </tr>\n",
       "    <tr>\n",
       "      <th>2023-01-04</th>\n",
       "      <td>113.639999</td>\n",
       "      <td>114.589996</td>\n",
       "      <td>107.519997</td>\n",
       "      <td>109.110001</td>\n",
       "      <td>180389000</td>\n",
       "    </tr>\n",
       "    <tr>\n",
       "      <th>2023-01-05</th>\n",
       "      <td>110.339996</td>\n",
       "      <td>111.750000</td>\n",
       "      <td>107.160004</td>\n",
       "      <td>110.510002</td>\n",
       "      <td>157986300</td>\n",
       "    </tr>\n",
       "    <tr>\n",
       "      <th>2023-01-06</th>\n",
       "      <td>113.059998</td>\n",
       "      <td>114.389999</td>\n",
       "      <td>101.809998</td>\n",
       "      <td>103.000000</td>\n",
       "      <td>220911100</td>\n",
       "    </tr>\n",
       "    <tr>\n",
       "      <th>2023-01-09</th>\n",
       "      <td>119.769997</td>\n",
       "      <td>123.519997</td>\n",
       "      <td>117.110001</td>\n",
       "      <td>118.959999</td>\n",
       "      <td>190284000</td>\n",
       "    </tr>\n",
       "  </tbody>\n",
       "</table>\n",
       "</div>"
      ],
      "text/plain": [
       "Price            Close        High         Low        Open     Volume\n",
       "Ticker            TSLA        TSLA        TSLA        TSLA       TSLA\n",
       "Date                                                                 \n",
       "2023-01-03  108.099998  118.800003  104.639999  118.470001  231402800\n",
       "2023-01-04  113.639999  114.589996  107.519997  109.110001  180389000\n",
       "2023-01-05  110.339996  111.750000  107.160004  110.510002  157986300\n",
       "2023-01-06  113.059998  114.389999  101.809998  103.000000  220911100\n",
       "2023-01-09  119.769997  123.519997  117.110001  118.959999  190284000"
      ]
     },
     "execution_count": 8,
     "metadata": {},
     "output_type": "execute_result"
    }
   ],
   "source": [
    "Tesla_data.head()"
   ]
  },
  {
   "cell_type": "code",
   "execution_count": 9,
   "metadata": {},
   "outputs": [
    {
     "name": "stdout",
     "output_type": "stream",
     "text": [
      "Price   Ticker\n",
      "Close   TSLA      float64\n",
      "High    TSLA      float64\n",
      "Low     TSLA      float64\n",
      "Open    TSLA      float64\n",
      "Volume  TSLA        int64\n",
      "dtype: object\n"
     ]
    }
   ],
   "source": [
    "#checking \n",
    "print(Tesla_data.dtypes)"
   ]
  },
  {
   "cell_type": "code",
   "execution_count": 10,
   "metadata": {},
   "outputs": [
    {
     "name": "stdout",
     "output_type": "stream",
     "text": [
      "Price        Close        High         Low        Open        Volume\n",
      "Ticker        TSLA        TSLA        TSLA        TSLA          TSLA\n",
      "count   501.000000  501.000000  501.000000  501.000000  5.010000e+02\n",
      "mean    223.712455  228.239401  218.743054  223.455709  1.160717e+08\n",
      "std      58.167249   59.642036   56.520703   58.234095  4.055792e+07\n",
      "min     108.099998  111.750000  101.809998  103.000000  3.716760e+07\n",
      "25%     183.250000  186.440002  179.660004  183.080002  8.657320e+07\n",
      "50%     215.990005  220.100006  212.009995  216.199997  1.111736e+08\n",
      "75%     251.119995  255.759995  245.059998  250.100006  1.359999e+08\n",
      "max     479.859985  488.540009  457.510010  475.899994  3.065906e+08\n"
     ]
    }
   ],
   "source": [
    "print(Tesla_data.describe())"
   ]
  },
  {
   "cell_type": "markdown",
   "metadata": {},
   "source": [
    "<h5 style=\"color:#00BFFF\">Visualizing the Data</h5>\n"
   ]
  }
 ],
 "metadata": {
  "kernelspec": {
   "display_name": "Python 3",
   "language": "python",
   "name": "python3"
  },
  "language_info": {
   "codemirror_mode": {
    "name": "ipython",
    "version": 3
   },
   "file_extension": ".py",
   "mimetype": "text/x-python",
   "name": "python",
   "nbconvert_exporter": "python",
   "pygments_lexer": "ipython3",
   "version": "3.13.0"
  }
 },
 "nbformat": 4,
 "nbformat_minor": 2
}
