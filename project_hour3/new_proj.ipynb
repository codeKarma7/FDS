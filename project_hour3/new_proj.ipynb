{
 "cells": [
  {
   "cell_type": "markdown",
   "metadata": {},
   "source": [
    "<h3 style =\"color:#00FFFF\">Project : Predicting Stock Prices </h3>\n",
    "\n",
    "<b>Objective : </b>\n",
    "- Building a model to predict future stock prices based on historical data.\n",
    "\n",
    "\n",
    "<b>Collection of Dataset :</b>\n",
    "\n",
    "- This dataset collected for regression project number 10(predicting stocl prices).This is a real life historical data collected.The stock price id of company \"Microsoft Corporation\"\n",
    "\n",
    "- The historical data was collected from the website https://www.marketwatch.com/ and searched stock of Microsoft Corporation  named as 'MSFT' and downloaded the historical data."
   ]
  },
  {
   "cell_type": "markdown",
   "metadata": {},
   "source": [
    "<h3 style =\"color:#00FFFF\">Linear Regression : </h3>\n",
    "- Linear regression is a suprevised learning algorithm to predict the outcome of a continuous variable.\n",
    "\n",
    "- Linear regression uses the linear equation formula : y = m * x + c"
   ]
  },
  {
   "cell_type": "code",
   "execution_count": 29,
   "metadata": {},
   "outputs": [],
   "source": [
    "import pandas as pd\n",
    "import yfinance as yf\n",
    "import numpy as np \n",
    "import seaborn as sn\n",
    "import matplotlib.pyplot as plt\n",
    "%matplotlib inline"
   ]
  },
  {
   "cell_type": "markdown",
   "metadata": {},
   "source": [
    "<h5 style=\"color:White\"><b>Loading the Data</b><h4>"
   ]
  },
  {
   "cell_type": "code",
   "execution_count": 22,
   "metadata": {},
   "outputs": [
    {
     "data": {
      "text/html": [
       "<div>\n",
       "<style scoped>\n",
       "    .dataframe tbody tr th:only-of-type {\n",
       "        vertical-align: middle;\n",
       "    }\n",
       "\n",
       "    .dataframe tbody tr th {\n",
       "        vertical-align: top;\n",
       "    }\n",
       "\n",
       "    .dataframe thead th {\n",
       "        text-align: right;\n",
       "    }\n",
       "</style>\n",
       "<table border=\"1\" class=\"dataframe\">\n",
       "  <thead>\n",
       "    <tr style=\"text-align: right;\">\n",
       "      <th></th>\n",
       "      <th>Date</th>\n",
       "      <th>Open</th>\n",
       "      <th>High</th>\n",
       "      <th>Low</th>\n",
       "      <th>Close</th>\n",
       "      <th>Volume</th>\n",
       "    </tr>\n",
       "  </thead>\n",
       "  <tbody>\n",
       "    <tr>\n",
       "      <th>0</th>\n",
       "      <td>12/31/2024</td>\n",
       "      <td>426.10</td>\n",
       "      <td>426.73</td>\n",
       "      <td>420.66</td>\n",
       "      <td>421.50</td>\n",
       "      <td>13,246,510</td>\n",
       "    </tr>\n",
       "    <tr>\n",
       "      <th>1</th>\n",
       "      <td>12/30/2024</td>\n",
       "      <td>426.06</td>\n",
       "      <td>427.55</td>\n",
       "      <td>421.90</td>\n",
       "      <td>424.83</td>\n",
       "      <td>13,158,700</td>\n",
       "    </tr>\n",
       "    <tr>\n",
       "      <th>2</th>\n",
       "      <td>12/27/2024</td>\n",
       "      <td>434.60</td>\n",
       "      <td>435.22</td>\n",
       "      <td>426.35</td>\n",
       "      <td>430.53</td>\n",
       "      <td>18,117,711</td>\n",
       "    </tr>\n",
       "    <tr>\n",
       "      <th>3</th>\n",
       "      <td>12/26/2024</td>\n",
       "      <td>439.08</td>\n",
       "      <td>440.94</td>\n",
       "      <td>436.63</td>\n",
       "      <td>438.11</td>\n",
       "      <td>8,199,927</td>\n",
       "    </tr>\n",
       "    <tr>\n",
       "      <th>4</th>\n",
       "      <td>12/24/2024</td>\n",
       "      <td>434.65</td>\n",
       "      <td>439.60</td>\n",
       "      <td>434.19</td>\n",
       "      <td>439.33</td>\n",
       "      <td>7,164,543</td>\n",
       "    </tr>\n",
       "  </tbody>\n",
       "</table>\n",
       "</div>"
      ],
      "text/plain": [
       "         Date    Open    High     Low   Close      Volume\n",
       "0  12/31/2024  426.10  426.73  420.66  421.50  13,246,510\n",
       "1  12/30/2024  426.06  427.55  421.90  424.83  13,158,700\n",
       "2  12/27/2024  434.60  435.22  426.35  430.53  18,117,711\n",
       "3  12/26/2024  439.08  440.94  436.63  438.11   8,199,927\n",
       "4  12/24/2024  434.65  439.60  434.19  439.33   7,164,543"
      ]
     },
     "execution_count": 22,
     "metadata": {},
     "output_type": "execute_result"
    }
   ],
   "source": [
    "stock = pd.read_csv(\"MSFT.csv\")\n",
    "stock.head()"
   ]
  },
  {
   "cell_type": "code",
   "execution_count": 31,
   "metadata": {},
   "outputs": [
    {
     "data": {
      "text/plain": [
       "Date      0\n",
       "Open      0\n",
       "High      0\n",
       "Low       0\n",
       "Close     0\n",
       "Volume    0\n",
       "dtype: int64"
      ]
     },
     "execution_count": 31,
     "metadata": {},
     "output_type": "execute_result"
    }
   ],
   "source": [
    "#checking if any null value is there\n",
    "stock.isnull().sum()"
   ]
  },
  {
   "cell_type": "code",
   "execution_count": 23,
   "metadata": {},
   "outputs": [
    {
     "name": "stdout",
     "output_type": "stream",
     "text": [
      "<class 'pandas.core.frame.DataFrame'>\n",
      "RangeIndex: 252 entries, 0 to 251\n",
      "Data columns (total 6 columns):\n",
      " #   Column  Non-Null Count  Dtype  \n",
      "---  ------  --------------  -----  \n",
      " 0   Date    252 non-null    object \n",
      " 1   Open    252 non-null    float64\n",
      " 2   High    252 non-null    float64\n",
      " 3   Low     252 non-null    float64\n",
      " 4   Close   252 non-null    float64\n",
      " 5   Volume  252 non-null    object \n",
      "dtypes: float64(4), object(2)\n",
      "memory usage: 11.9+ KB\n"
     ]
    }
   ],
   "source": [
    "#gathering info to display a concise summary of DataFrame.\n",
    "stock.info()"
   ]
  },
  {
   "cell_type": "code",
   "execution_count": 24,
   "metadata": {},
   "outputs": [],
   "source": [
    "#converting the date into data-time format\n",
    "stock['Date'] = pd.to_datetime(stock['Date'])\n",
    "\n",
    "#converting volume data type from object into numeric\n",
    "stock['Volume'] = stock['Volume'].str.replace(',', '').astype(int)"
   ]
  },
  {
   "cell_type": "code",
   "execution_count": 25,
   "metadata": {},
   "outputs": [
    {
     "data": {
      "text/plain": [
       "Date      datetime64[ns]\n",
       "Open             float64\n",
       "High             float64\n",
       "Low              float64\n",
       "Close            float64\n",
       "Volume             int64\n",
       "dtype: object"
      ]
     },
     "execution_count": 25,
     "metadata": {},
     "output_type": "execute_result"
    }
   ],
   "source": [
    "#checking the datatypes\n",
    "stock.dtypes"
   ]
  },
  {
   "cell_type": "code",
   "execution_count": 26,
   "metadata": {},
   "outputs": [
    {
     "name": "stdout",
     "output_type": "stream",
     "text": [
      "DataFrame contains stock prices between 2024-01-02 00:00:00 2024-12-31 00:00:00\n",
      "Total Days = 364 days 00:00:00\n"
     ]
    }
   ],
   "source": [
    "#some info about DataFrame\n",
    "print(f'DataFrame contains stock prices between {stock.Date.min()} {stock.Date.max()}')\n",
    "print(f'Total Days = {(stock.Date.max()) - stock.Date.min()}')"
   ]
  },
  {
   "cell_type": "code",
   "execution_count": 27,
   "metadata": {},
   "outputs": [
    {
     "data": {
      "text/html": [
       "<div>\n",
       "<style scoped>\n",
       "    .dataframe tbody tr th:only-of-type {\n",
       "        vertical-align: middle;\n",
       "    }\n",
       "\n",
       "    .dataframe tbody tr th {\n",
       "        vertical-align: top;\n",
       "    }\n",
       "\n",
       "    .dataframe thead th {\n",
       "        text-align: right;\n",
       "    }\n",
       "</style>\n",
       "<table border=\"1\" class=\"dataframe\">\n",
       "  <thead>\n",
       "    <tr style=\"text-align: right;\">\n",
       "      <th></th>\n",
       "      <th>Date</th>\n",
       "      <th>Open</th>\n",
       "      <th>High</th>\n",
       "      <th>Low</th>\n",
       "      <th>Close</th>\n",
       "      <th>Volume</th>\n",
       "    </tr>\n",
       "  </thead>\n",
       "  <tbody>\n",
       "    <tr>\n",
       "      <th>count</th>\n",
       "      <td>252</td>\n",
       "      <td>252.000000</td>\n",
       "      <td>252.000000</td>\n",
       "      <td>252.000000</td>\n",
       "      <td>252.000000</td>\n",
       "      <td>2.520000e+02</td>\n",
       "    </tr>\n",
       "    <tr>\n",
       "      <th>mean</th>\n",
       "      <td>2024-07-01 19:37:08.571428608</td>\n",
       "      <td>420.384246</td>\n",
       "      <td>423.632897</td>\n",
       "      <td>416.690754</td>\n",
       "      <td>420.312302</td>\n",
       "      <td>2.059020e+07</td>\n",
       "    </tr>\n",
       "    <tr>\n",
       "      <th>min</th>\n",
       "      <td>2024-01-02 00:00:00</td>\n",
       "      <td>368.970000</td>\n",
       "      <td>372.060000</td>\n",
       "      <td>366.500000</td>\n",
       "      <td>367.750000</td>\n",
       "      <td>7.164543e+06</td>\n",
       "    </tr>\n",
       "    <tr>\n",
       "      <th>25%</th>\n",
       "      <td>2024-04-02 18:00:00</td>\n",
       "      <td>409.582500</td>\n",
       "      <td>413.722500</td>\n",
       "      <td>406.352500</td>\n",
       "      <td>409.477500</td>\n",
       "      <td>1.625808e+07</td>\n",
       "    </tr>\n",
       "    <tr>\n",
       "      <th>50%</th>\n",
       "      <td>2024-07-02 12:00:00</td>\n",
       "      <td>419.545000</td>\n",
       "      <td>422.550000</td>\n",
       "      <td>415.570000</td>\n",
       "      <td>418.605000</td>\n",
       "      <td>1.911867e+07</td>\n",
       "    </tr>\n",
       "    <tr>\n",
       "      <th>75%</th>\n",
       "      <td>2024-10-01 06:00:00</td>\n",
       "      <td>429.830000</td>\n",
       "      <td>432.425000</td>\n",
       "      <td>426.077500</td>\n",
       "      <td>429.567500</td>\n",
       "      <td>2.252612e+07</td>\n",
       "    </tr>\n",
       "    <tr>\n",
       "      <th>max</th>\n",
       "      <td>2024-12-31 00:00:00</td>\n",
       "      <td>467.000000</td>\n",
       "      <td>468.350000</td>\n",
       "      <td>464.460000</td>\n",
       "      <td>467.560000</td>\n",
       "      <td>6.426369e+07</td>\n",
       "    </tr>\n",
       "    <tr>\n",
       "      <th>std</th>\n",
       "      <td>NaN</td>\n",
       "      <td>17.677904</td>\n",
       "      <td>17.656110</td>\n",
       "      <td>17.649979</td>\n",
       "      <td>17.750028</td>\n",
       "      <td>7.390214e+06</td>\n",
       "    </tr>\n",
       "  </tbody>\n",
       "</table>\n",
       "</div>"
      ],
      "text/plain": [
       "                                Date        Open        High         Low  \\\n",
       "count                            252  252.000000  252.000000  252.000000   \n",
       "mean   2024-07-01 19:37:08.571428608  420.384246  423.632897  416.690754   \n",
       "min              2024-01-02 00:00:00  368.970000  372.060000  366.500000   \n",
       "25%              2024-04-02 18:00:00  409.582500  413.722500  406.352500   \n",
       "50%              2024-07-02 12:00:00  419.545000  422.550000  415.570000   \n",
       "75%              2024-10-01 06:00:00  429.830000  432.425000  426.077500   \n",
       "max              2024-12-31 00:00:00  467.000000  468.350000  464.460000   \n",
       "std                              NaN   17.677904   17.656110   17.649979   \n",
       "\n",
       "            Close        Volume  \n",
       "count  252.000000  2.520000e+02  \n",
       "mean   420.312302  2.059020e+07  \n",
       "min    367.750000  7.164543e+06  \n",
       "25%    409.477500  1.625808e+07  \n",
       "50%    418.605000  1.911867e+07  \n",
       "75%    429.567500  2.252612e+07  \n",
       "max    467.560000  6.426369e+07  \n",
       "std     17.750028  7.390214e+06  "
      ]
     },
     "execution_count": 27,
     "metadata": {},
     "output_type": "execute_result"
    }
   ],
   "source": [
    "#generating descriptive statistics of DataFrame\n",
    "stock.describe()"
   ]
  },
  {
   "cell_type": "code",
   "execution_count": 34,
   "metadata": {},
   "outputs": [],
   "source": [
    "stock['Daily Change'] = stock['Close'].pct_change()"
   ]
  },
  {
   "cell_type": "code",
   "execution_count": 33,
   "metadata": {},
   "outputs": [],
   "source": [
    "stock['50-Day MA'] = stock['Close'].rolling(window=50).mean()\n",
    "stock['200-Day MA'] = stock['Close'].rolling(window=200).mean()"
   ]
  },
  {
   "cell_type": "code",
   "execution_count": 38,
   "metadata": {},
   "outputs": [],
   "source": [
    "stock.dropna(inplace=True)"
   ]
  },
  {
   "cell_type": "code",
   "execution_count": 35,
   "metadata": {},
   "outputs": [],
   "source": [
    "def min_max_scale(df):\n",
    "    return (df - df.min()) / (df.max() - df.min())"
   ]
  },
  {
   "cell_type": "code",
   "execution_count": 37,
   "metadata": {},
   "outputs": [],
   "source": [
    "scaled_data = min_max_scale(stock[['Close', 'Daily Change', '50-Day MA', '200-Day MA']])"
   ]
  },
  {
   "cell_type": "code",
   "execution_count": 32,
   "metadata": {},
   "outputs": [
    {
     "data": {
      "text/plain": [
       "Text(0.5, 1.0, 'Closing price of Google data')"
      ]
     },
     "execution_count": 32,
     "metadata": {},
     "output_type": "execute_result"
    },
    {
     "data": {
      "image/png": "[encoded data removed]",
      "text/plain": [
       "<Figure size 1500x500 with 1 Axes>"
      ]
     },
     "metadata": {},
     "output_type": "display_data"
    }
   ],
   "source": [
    "plt.figure(figsize = (15,5))\n",
    "stock['Close'].plot()\n",
    "plt.xlabel(\"years\")\n",
    "plt.ylabel(\"Close\")\n",
    "plt.title(\"Closing price of Google data\")"
   ]
  }
 ],
 "metadata": {
  "kernelspec": {
   "display_name": "Python 3",
   "language": "python",
   "name": "python3"
  },
  "language_info": {
   "codemirror_mode": {
    "name": "ipython",
    "version": 3
   },
   "file_extension": ".py",
   "mimetype": "text/x-python",
   "name": "python",
   "nbconvert_exporter": "python",
   "pygments_lexer": "ipython3",
   "version": "3.13.0"
  }
 },
 "nbformat": 4,
 "nbformat_minor": 2
}
