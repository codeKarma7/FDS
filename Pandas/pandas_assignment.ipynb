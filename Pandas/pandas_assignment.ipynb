{
 "cells": [
  {
   "cell_type": "markdown",
   "metadata": {},
   "source": [
    "\n",
    "# Assignment: Exploring Sales Data Using Pandas\n",
    "Step 1: Import Necessary Libraries"
   ]
  },
  {
   "cell_type": "code",
   "execution_count": 1,
   "metadata": {},
   "outputs": [],
   "source": [
    "# Import the pandas library\n",
    "import pandas as pd"
   ]
  },
  {
   "cell_type": "markdown",
   "metadata": {},
   "source": [
    "# Step 2: Load the Dataset"
   ]
  },
  {
   "cell_type": "code",
   "execution_count": 3,
   "metadata": {},
   "outputs": [
    {
     "data": {
      "text/html": [
       "<div>\n",
       "<style scoped>\n",
       "    .dataframe tbody tr th:only-of-type {\n",
       "        vertical-align: middle;\n",
       "    }\n",
       "\n",
       "    .dataframe tbody tr th {\n",
       "        vertical-align: top;\n",
       "    }\n",
       "\n",
       "    .dataframe thead th {\n",
       "        text-align: right;\n",
       "    }\n",
       "</style>\n",
       "<table border=\"1\" class=\"dataframe\">\n",
       "  <thead>\n",
       "    <tr style=\"text-align: right;\">\n",
       "      <th></th>\n",
       "      <th>Order_ID</th>\n",
       "      <th>Sales_Region</th>\n",
       "      <th>Regions</th>\n",
       "      <th>Order_Date</th>\n",
       "      <th>Quantity</th>\n",
       "      <th>Unit_Price</th>\n",
       "      <th>Sales</th>\n",
       "      <th>Target</th>\n",
       "    </tr>\n",
       "  </thead>\n",
       "  <tbody>\n",
       "    <tr>\n",
       "      <th>0</th>\n",
       "      <td>101</td>\n",
       "      <td>East</td>\n",
       "      <td>North America</td>\n",
       "      <td>2023-01-15</td>\n",
       "      <td>10</td>\n",
       "      <td>50</td>\n",
       "      <td>500</td>\n",
       "      <td>1000</td>\n",
       "    </tr>\n",
       "    <tr>\n",
       "      <th>1</th>\n",
       "      <td>102</td>\n",
       "      <td>West</td>\n",
       "      <td>North America</td>\n",
       "      <td>2023-02-10</td>\n",
       "      <td>5</td>\n",
       "      <td>100</td>\n",
       "      <td>500</td>\n",
       "      <td>800</td>\n",
       "    </tr>\n",
       "    <tr>\n",
       "      <th>2</th>\n",
       "      <td>103</td>\n",
       "      <td>East</td>\n",
       "      <td>North America</td>\n",
       "      <td>2023-03-05</td>\n",
       "      <td>8</td>\n",
       "      <td>75</td>\n",
       "      <td>600</td>\n",
       "      <td>1200</td>\n",
       "    </tr>\n",
       "    <tr>\n",
       "      <th>3</th>\n",
       "      <td>104</td>\n",
       "      <td>North</td>\n",
       "      <td>North America</td>\n",
       "      <td>2023-04-20</td>\n",
       "      <td>6</td>\n",
       "      <td>60</td>\n",
       "      <td>360</td>\n",
       "      <td>900</td>\n",
       "    </tr>\n",
       "    <tr>\n",
       "      <th>4</th>\n",
       "      <td>105</td>\n",
       "      <td>South</td>\n",
       "      <td>North America</td>\n",
       "      <td>2023-05-25</td>\n",
       "      <td>2</td>\n",
       "      <td>120</td>\n",
       "      <td>240</td>\n",
       "      <td>700</td>\n",
       "    </tr>\n",
       "  </tbody>\n",
       "</table>\n",
       "</div>"
      ],
      "text/plain": [
       "   Order_ID Sales_Region        Regions  Order_Date  Quantity  Unit_Price  \\\n",
       "0       101         East  North America  2023-01-15        10          50   \n",
       "1       102         West  North America  2023-02-10         5         100   \n",
       "2       103         East  North America  2023-03-05         8          75   \n",
       "3       104        North  North America  2023-04-20         6          60   \n",
       "4       105        South  North America  2023-05-25         2         120   \n",
       "\n",
       "   Sales  Target  \n",
       "0    500    1000  \n",
       "1    500     800  \n",
       "2    600    1200  \n",
       "3    360     900  \n",
       "4    240     700  "
      ]
     },
     "execution_count": 3,
     "metadata": {},
     "output_type": "execute_result"
    }
   ],
   "source": [
    "# Load the dataset from a CSV file\n",
    "# Replace 'your_file.csv' with the actual file name\n",
    "import pandas as pd\n",
    "df = pd.read_csv(\"sales_data.csv\")\n",
    "\n",
    "# Display the first 5 rows of the dataset\n",
    "df.head()"
   ]
  },
  {
   "cell_type": "markdown",
   "metadata": {},
   "source": [
    "# Step 3: Explore the Dataset"
   ]
  },
  {
   "cell_type": "code",
   "execution_count": null,
   "metadata": {},
   "outputs": [],
   "source": [
    "# Display the columns of the dataset\n",
    "print(df.____)\n",
    "\n",
    "# Check the data types of each column\n",
    "print(df.____)\n",
    "\n",
    "# Display summary statistics for numerical columns\n",
    "print(df.____())"
   ]
  },
  {
   "cell_type": "markdown",
   "metadata": {},
   "source": [
    "# Step 4: Handle Missing Values"
   ]
  },
  {
   "cell_type": "code",
   "execution_count": null,
   "metadata": {},
   "outputs": [],
   "source": [
    "# Check for missing values\n",
    "print(df.____.____())\n",
    "\n",
    "# Fill missing values in the 'Sales' column with the column mean\n",
    "df['Sales'] = df['Sales'].____(df['Sales'].____())\n",
    "\n",
    "# Drop rows with missing values in the 'Target' column\n",
    "df = df.____(subset=['Target'])"
   ]
  },
  {
   "cell_type": "code",
   "execution_count": null,
   "metadata": {},
   "outputs": [],
   "source": [
    "# Step 5: Data Transformation"
   ]
  },
  {
   "cell_type": "code",
   "execution_count": null,
   "metadata": {},
   "outputs": [],
   "source": [
    "# Create a new column 'Total_Price' by multiplying 'Quantity' and 'Unit_Price'\n",
    "df['Total_Price'] = df['Quantity'] ____ df['Unit_Price']\n",
    "\n",
    "# Rename the 'Regions' column to 'Region'\n",
    "df = df.rename(columns={____: 'Region'})"
   ]
  },
  {
   "cell_type": "markdown",
   "metadata": {},
   "source": [
    "# Step 6: Filter Data"
   ]
  },
  {
   "cell_type": "code",
   "execution_count": null,
   "metadata": {},
   "outputs": [],
   "source": [
    "# Filter rows where 'Total_Price' is greater than 500\n",
    "high_sales = df[df['Total_Price'] ____ 500]\n",
    "\n",
    "# Display the first 5 rows of filtered data\n",
    "high_sales.____()\n"
   ]
  },
  {
   "cell_type": "markdown",
   "metadata": {},
   "source": [
    "# Step 7: Group By and Aggregation\n",
    "\n",
    "Further explore yourself"
   ]
  },
  {
   "cell_type": "code",
   "execution_count": null,
   "metadata": {},
   "outputs": [],
   "source": [
    "# Group the data by 'Sales_Region' and calculate the total sales\n",
    "region_sales = df.groupby('Sales_Region')['Sales'].____()\n",
    "print(region_sales)\n",
    "\n",
    "# Group the data by 'Sales_Region' and calculate the total and average sales\n",
    "region_sales = df.groupby('Sales_Region')['Sales'].____(['sum', 'mean'])\n",
    "print(region_sales)"
   ]
  },
  {
   "cell_type": "markdown",
   "metadata": {},
   "source": [
    "# Step 8: Save the Processed Dataset"
   ]
  },
  {
   "cell_type": "code",
   "execution_count": null,
   "metadata": {},
   "outputs": [],
   "source": [
    "# Save the cleaned and processed dataset to a new CSV file\n",
    "df._____(\"processed_sales_data.csv\", index=False)"
   ]
  },
  {
   "cell_type": "markdown",
   "metadata": {},
   "source": [
    "# Additional Questions"
   ]
  },
  {
   "cell_type": "code",
   "execution_count": null,
   "metadata": {},
   "outputs": [],
   "source": [
    "# Find and display the 5 regions with the highest total sales.\n",
    "\n",
    "top_regions = df.groupby('Sales_Region')['Sales'].____().____(ascending=False).head(5)\n",
    "print(top_regions)"
   ]
  }
 ],
 "metadata": {
  "kernelspec": {
   "display_name": "venv",
   "language": "python",
   "name": "python3"
  },
  "language_info": {
   "codemirror_mode": {
    "name": "ipython",
    "version": 3
   },
   "file_extension": ".py",
   "mimetype": "text/x-python",
   "name": "python",
   "nbconvert_exporter": "python",
   "pygments_lexer": "ipython3",
   "version": "3.13.0"
  }
 },
 "nbformat": 4,
 "nbformat_minor": 2
}
