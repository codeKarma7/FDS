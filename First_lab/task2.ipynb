{
 "cells": [
  {
   "cell_type": "code",
   "execution_count": 1,
   "metadata": {},
   "outputs": [
    {
     "name": "stdout",
     "output_type": "stream",
     "text": [
      "It is palindrome.\n"
     ]
    }
   ],
   "source": [
    "#2.A program to check if the given string is palindrome or not.\n",
    "\n",
    "import pandas as pd\n",
    "original = str(input(\"Enter a string : \"))\n",
    "reverse = original[::-1]\n",
    "\n",
    "if(original == reverse):\n",
    "    print(\"It is palindrome.\")\n",
    "else:\n",
    "    print(\"It is not palindrome.\")"
   ]
  },
  {
   "cell_type": "code",
   "execution_count": 7,
   "metadata": {},
   "outputs": [
    {
     "name": "stdout",
     "output_type": "stream",
     "text": [
      "The sum is greater than 1000\n",
      "The sum is 2550\n"
     ]
    }
   ],
   "source": [
    "#3.A program to calculate sum of even numbers from 1 to 100. \n",
    "\n",
    "sum=0\n",
    "for i in range(1,101):\n",
    "    if (i%2)==0:\n",
    "        sum = sum+i\n",
    "\n",
    "if(sum>1000):\n",
    "    print(\"The sum is greater than 1000\")    \n",
    "print(\"The sum is\",sum)\n"
   ]
  },
  {
   "cell_type": "code",
   "execution_count": 4,
   "metadata": {},
   "outputs": [
    {
     "name": "stdout",
     "output_type": "stream",
     "text": [
      "['Nepal', 'Netherland', 'new zealand', 'Nigeria']\n"
     ]
    }
   ],
   "source": [
    "#4.A program to list name of country and select country name which starts from 'N' from previous list\n",
    "\n",
    "country = [\"Nepal\",\"China\",\"Qatar\",\"Netherland\",\"Japan\",\"Korea\",\"new zealand\",\"Nigeria\"]\n",
    "n_country=[]\n",
    "for nation in country:\n",
    "    if(nation[0] in 'nN'): #can also be used as ['n','N']\n",
    "        n_country.append(nation)\n",
    "print(n_country)\n"
   ]
  },
  {
   "cell_type": "code",
   "execution_count": 23,
   "metadata": {},
   "outputs": [
    {
     "name": "stdout",
     "output_type": "stream",
     "text": [
      "{'name': ['a', 'b', 'c', 'd', '5', 'f', 'g', 'h', 'i', 'j'], 'roll': ['1', '2', '3', '4', '5', '6', '7', '8', '9', '10'], 'address': ['bkt', 'ktm', 'usa', 'jumla', 'patan', 'thimi', 'ktm', 'bhairava', 'bkt', 'banepa'], 'age': [19, 13, 15, 25, 33, 19, 18, 20, 10, 20], 'category': ['Mid', 'Junior', 'Junior', 'Mid', 'Senior', 'Mid', 'Mid', 'Mid', 'Junior', 'Mid']}\n",
      "Average age : 19.2\n",
      "Mid is frequent\n"
     ]
    }
   ],
   "source": [
    "#5.dictionary \n",
    "\n",
    "student= {\n",
    "    \"name\" :[],\n",
    "    \"roll\" :[],\n",
    "    \"address\" :[],\n",
    "    \"age\" :[]\n",
    "}\n",
    "\n",
    "for i in range(10):\n",
    "    student[\"name\"].append(input(\"Enter name :\"))\n",
    "    student[\"roll\"].append(input(\"Enter roll :\"))\n",
    "    student[\"address\"].append(input(\"Enter address :\"))\n",
    "    student[\"age\"].append(int(input(\"Enter age :\")))\n",
    "\n",
    "student[\"category\"]=[]\n",
    "for i in range(10):    \n",
    "    if (student[\"age\"][i] < 15 or student[\"age\"][i]==15 ):\n",
    "        student[\"category\"].append(\"Junior\")\n",
    "    elif(15 < student[\"age\"][i] <= 25):\n",
    "        student[\"category\"].append(\"Mid\")\n",
    "    else:\n",
    "        student[\"category\"].append(\"Senior\")\n",
    "\n",
    "print(student)\n",
    "\n",
    "#to caluclate average age\n",
    "sum=0\n",
    "for i in range(10):\n",
    "    sum = sum + student[\"age\"][i]\n",
    "\n",
    "avg= sum/10\n",
    "print(\"Average age :\",avg)\n",
    "\n",
    "#to calculate repeated category\n",
    "s=0\n",
    "j=0\n",
    "m=0\n",
    "for i in range(10):\n",
    "    if student[\"category\"][i] == \"Senior\" :\n",
    "        s=s+1\n",
    "    elif student[\"category\"][i] == \"Junior\" :\n",
    "        j=j+1\n",
    "    else:\n",
    "        m=m+1\n",
    "    \n",
    "if s>j and s>m:\n",
    "    print(\"Senior is frequent\")\n",
    "elif j>s and j >m:\n",
    "    print(\"Junior is frequent\")\n",
    "else:\n",
    "    print(\"Mid is frequent\")\n"
   ]
  },
  {
   "cell_type": "code",
   "execution_count": 1,
   "metadata": {},
   "outputs": [
    {
     "ename": "NameError",
     "evalue": "name 'student' is not defined",
     "output_type": "error",
     "traceback": [
      "\u001b[1;31m---------------------------------------------------------------------------\u001b[0m",
      "\u001b[1;31mNameError\u001b[0m                                 Traceback (most recent call last)",
      "Cell \u001b[1;32mIn[1], line 6\u001b[0m\n\u001b[0;32m      1\u001b[0m \u001b[38;5;66;03m#6. Convert the data dictionary created in task 5 to pandas dataframe and display top 5 rows. Study the summary and dataframe\u001b[39;00m\n\u001b[0;32m      2\u001b[0m \u001b[38;5;66;03m# info.Add 2 new columns, 'first_name' and 'last_name' and fill them using 'name' column and then drop the 'name' column.\u001b[39;00m\n\u001b[0;32m      3\u001b[0m \u001b[38;5;66;03m# Display the bottom 5 rows.\u001b[39;00m\n\u001b[0;32m      4\u001b[0m \u001b[38;5;28;01mimport\u001b[39;00m \u001b[38;5;21;01mpandas\u001b[39;00m \u001b[38;5;28;01mas\u001b[39;00m \u001b[38;5;21;01mpd\u001b[39;00m\n\u001b[1;32m----> 6\u001b[0m df \u001b[38;5;241m=\u001b[39m pd\u001b[38;5;241m.\u001b[39mDataFrame(\u001b[43mstudent\u001b[49m) \n\u001b[0;32m      8\u001b[0m \u001b[38;5;66;03m# Display the top 5 rows\u001b[39;00m\n\u001b[0;32m      9\u001b[0m \u001b[38;5;28mprint\u001b[39m(\u001b[38;5;124m\"\u001b[39m\u001b[38;5;130;01m\\n\u001b[39;00m\u001b[38;5;124mTop 5 rows of the DataFrame:\u001b[39m\u001b[38;5;124m\"\u001b[39m)\n",
      "\u001b[1;31mNameError\u001b[0m: name 'student' is not defined"
     ]
    }
   ],
   "source": [
    "#6. Convert the data dictionary created in task 5 to pandas dataframe and display top 5 rows. Study the summary and dataframe\n",
    "# info.Add 2 new columns, 'first_name' and 'last_name' and fill them using 'name' column and then drop the 'name' column.\n",
    "# Display the bottom 5 rows.\n",
    "import pandas as pd\n",
    "\n",
    "df = pd.DataFrame(student) \n",
    "\n",
    "# Display the top 5 rows\n",
    "print(\"\\nTop 5 rows of the DataFrame:\")\n",
    "print(df.head())\n",
    "\n",
    "# Display summary statistics and DataFrame info\n",
    "print(\"\\nSummary of the DataFrame:\")\n",
    "print(df.describe(include=\"all\"))\n",
    "\n",
    "print(\"\\nDataFrame Info:\")\n",
    "df.info()\n",
    "\n",
    "# Add 'first_name' and 'last_name' columns and drop 'name'\n",
    "df[['first_name', 'last_name']] = df['name'].str.split(' ', 1, expand=True)\n",
    "df.drop(columns=['name'], inplace=True)\n",
    "\n",
    "# Display the bottom 5 rows\n",
    "print(\"\\nBottom 5 rows of the DataFrame after modifications:\")\n",
    "print(df.tail())"
   ]
  }
 ],
 "metadata": {
  "kernelspec": {
   "display_name": "venv",
   "language": "python",
   "name": "python3"
  },
  "language_info": {
   "codemirror_mode": {
    "name": "ipython",
    "version": 3
   },
   "file_extension": ".py",
   "mimetype": "text/x-python",
   "name": "python",
   "nbconvert_exporter": "python",
   "pygments_lexer": "ipython3",
   "version": "3.13.0"
  }
 },
 "nbformat": 4,
 "nbformat_minor": 2
}
